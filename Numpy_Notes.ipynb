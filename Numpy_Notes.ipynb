{
  "nbformat": 4,
  "nbformat_minor": 0,
  "metadata": {
    "colab": {
      "provenance": [],
      "gpuType": "T4",
      "toc_visible": true,
      "authorship_tag": "ABX9TyPCHMUqctonDJfKrEEjJreV",
      "include_colab_link": true
    },
    "kernelspec": {
      "name": "python3",
      "display_name": "Python 3"
    },
    "language_info": {
      "name": "python"
    },
    "accelerator": "GPU"
  },
  "cells": [
    {
      "cell_type": "markdown",
      "metadata": {
        "id": "view-in-github",
        "colab_type": "text"
      },
      "source": [
        "<a href=\"https://colab.research.google.com/github/Anjalee01/Python-For-Mathematicians/blob/main/Numpy_Notes.ipynb\" target=\"_parent\"><img src=\"https://colab.research.google.com/assets/colab-badge.svg\" alt=\"Open In Colab\"/></a>"
      ]
    },
    {
      "cell_type": "markdown",
      "source": [
        "# **Numpy**\n",
        "\n",
        "Numpy is multidimentional array library\n",
        "\n",
        "Can store all type of data(1 Dimentional, 2 Dimentionl and 3Dimentional) like **List**\n",
        "\n",
        "# **Difference between Numpy and List**\n",
        "\n",
        "Numpy is fast multidimentional used for array manipulation\n",
        "\n",
        "Low level implimented libraries of Numpy like C and photran they are way faster than python\n",
        "\n",
        "Numpy is Faster than Metlab\n",
        "\n",
        "Numpy Can be used in Machine Learning"
      ],
      "metadata": {
        "id": "y-PK_cG4f6jc"
      }
    },
    {
      "cell_type": "code",
      "execution_count": null,
      "metadata": {
        "id": "5DauSvYSfyAl",
        "colab": {
          "base_uri": "https://localhost:8080/"
        },
        "outputId": "6a7cbc75-f58b-4574-9826-8dc1508d5c18"
      },
      "outputs": [
        {
          "output_type": "stream",
          "name": "stdout",
          "text": [
            "[1, 2, 3, 2, 4, 5]\n"
          ]
        }
      ],
      "source": [
        "list1 = [1,2,3]\n",
        "list2 = [2,4,5]\n",
        "print(list1+list2)"
      ]
    },
    {
      "cell_type": "code",
      "source": [
        "list1 = [1,2,3]\n",
        "list2 = [2,4,5,4]\n",
        "results = []\n",
        "results.append(list1[0] + list2[0])\n",
        "results.append(list1[1] + list2[1])\n",
        "results.append(list1[2] + list2[2])\n",
        "print(results)"
      ],
      "metadata": {
        "colab": {
          "base_uri": "https://localhost:8080/"
        },
        "id": "XYo2ObQprue3",
        "outputId": "97c32294-2426-4017-f42b-066a15138d34"
      },
      "execution_count": null,
      "outputs": [
        {
          "output_type": "stream",
          "name": "stdout",
          "text": [
            "[3, 6, 8]\n"
          ]
        }
      ]
    },
    {
      "cell_type": "code",
      "source": [
        "list1 = [1, 2, 3]\n",
        "list2 = [2, 4, 5]\n",
        "\n",
        "# Initialize an empty list to store the results\n",
        "result = []\n",
        "\n",
        "# Use a simple for loop for element-wise addition\n",
        "for i in range(len(list1)):\n",
        "    result.append(list1[i] + list2[i])\n",
        "\n",
        "print(result)  # Output: [3, 6, 8]\n"
      ],
      "metadata": {
        "colab": {
          "base_uri": "https://localhost:8080/"
        },
        "id": "YjbzqzE9ryIt",
        "outputId": "403b950a-3e76-4bd4-a1e4-526c96e23d3f"
      },
      "execution_count": null,
      "outputs": [
        {
          "output_type": "stream",
          "name": "stdout",
          "text": [
            "[3, 6, 8]\n"
          ]
        }
      ]
    },
    {
      "cell_type": "code",
      "source": [
        "#alias(like a nickname)\n",
        "import numpy as np\n",
        "print(np.__version__)"
      ],
      "metadata": {
        "colab": {
          "base_uri": "https://localhost:8080/"
        },
        "id": "e0hk6HIQswS1",
        "outputId": "5935c471-9198-4085-8f16-cc578cd23f6d"
      },
      "execution_count": null,
      "outputs": [
        {
          "output_type": "stream",
          "name": "stdout",
          "text": [
            "1.26.4\n"
          ]
        }
      ]
    },
    {
      "cell_type": "markdown",
      "source": [
        "**1. Faster Execution**\n",
        "\n",
        "NumPy arrays are much faster than Python lists for numerical computations.\n",
        "\n",
        "**2. Easy Mathematical Operations**\n",
        "\n",
        "You can directly perform element-wise operations without writing loops"
      ],
      "metadata": {
        "id": "9SIt_U_Rujya"
      }
    },
    {
      "cell_type": "code",
      "source": [
        "a = np.array([1,2,3])\n",
        "print(a+a)"
      ],
      "metadata": {
        "colab": {
          "base_uri": "https://localhost:8080/"
        },
        "id": "A_e9EYpptLGh",
        "outputId": "be8b43a7-dc5d-4cc5-fdf5-defbbf0954ba"
      },
      "execution_count": null,
      "outputs": [
        {
          "output_type": "stream",
          "name": "stdout",
          "text": [
            "[2 4 6]\n"
          ]
        }
      ]
    },
    {
      "cell_type": "code",
      "source": [
        "import time\n",
        "list1 = list(range(1000000))\n",
        "list2 = list(range(1000000))\n",
        "\n",
        "start = time.time()\n",
        "result = []\n",
        "for i in range(len(list1)):\n",
        "    result.append(list1[i] + list2[i])\n",
        "end = time.time()\n",
        "print(\"loop addition time:\", end - start)\n",
        "\n",
        "# Adding with NumPy\n",
        "array1 = np.array(list1)\n",
        "array2 = np.array(list2)\n",
        "\n",
        "start = time.time()\n",
        "result = array1 + array2\n",
        "end = time.time()\n",
        "print(\"loop addition time:\", end - start)\n",
        "\n",
        "\n"
      ],
      "metadata": {
        "colab": {
          "base_uri": "https://localhost:8080/"
        },
        "id": "O23NO9shvK5B",
        "outputId": "0c77e45a-1b35-4ed2-9b0e-877875b2e298"
      },
      "execution_count": null,
      "outputs": [
        {
          "output_type": "stream",
          "name": "stdout",
          "text": [
            "loop addition time: 0.27383995056152344\n",
            "loop addition time: 0.005396127700805664\n"
          ]
        }
      ]
    },
    {
      "cell_type": "code",
      "source": [
        "def print_array_details(a):\n",
        "  print(f\"shape: {a.shape}\")\n",
        "\n",
        "a = np.array([1,2,3,4,5,6,7,8])\n",
        "print(a)\n",
        "print_array_details(a)"
      ],
      "metadata": {
        "colab": {
          "base_uri": "https://localhost:8080/"
        },
        "id": "flc8nKho2UbP",
        "outputId": "750d448e-f8da-4e81-b19d-60b10ef06b11"
      },
      "execution_count": null,
      "outputs": [
        {
          "output_type": "stream",
          "name": "stdout",
          "text": [
            "[1 2 3 4 5 6 7 8]\n",
            "shape: (8,)\n"
          ]
        }
      ]
    },
    {
      "cell_type": "code",
      "source": [
        "a = np.array([1,2,3,4,5,6,7,8,9,10,11,12])\n",
        "a2 = a.reshape([3,4])\n",
        "print(a2)\n",
        "print(a2.shape)"
      ],
      "metadata": {
        "colab": {
          "base_uri": "https://localhost:8080/"
        },
        "id": "sCW0P_2b2tTN",
        "outputId": "8c803a19-d357-43a1-99e8-0b73724b612c"
      },
      "execution_count": null,
      "outputs": [
        {
          "output_type": "stream",
          "name": "stdout",
          "text": [
            "[[ 1  2  3  4]\n",
            " [ 5  6  7  8]\n",
            " [ 9 10 11 12]]\n",
            "(3, 4)\n"
          ]
        }
      ]
    },
    {
      "cell_type": "code",
      "source": [
        "#Then a 3d array from our 1d array\n",
        "a = np.array([1,2,3,4,5,6,7,8])\n",
        "a3 = a.reshape([2,2,2])\n",
        "print(a3)"
      ],
      "metadata": {
        "colab": {
          "base_uri": "https://localhost:8080/"
        },
        "id": "H3651epC_91k",
        "outputId": "6d431d74-43c2-4b8f-defb-038ca1ec830e"
      },
      "execution_count": null,
      "outputs": [
        {
          "output_type": "stream",
          "name": "stdout",
          "text": [
            "[[[1 2]\n",
            "  [3 4]]\n",
            "\n",
            " [[5 6]\n",
            "  [7 8]]]\n"
          ]
        }
      ]
    },
    {
      "cell_type": "code",
      "source": [
        "a = np.array([1,2,3,4,5,6,7,8,9, 10,11,12])\n",
        "a4 = a.reshape([2,3,2])\n",
        "print(a4)"
      ],
      "metadata": {
        "colab": {
          "base_uri": "https://localhost:8080/"
        },
        "id": "9dMILGeyKJz4",
        "outputId": "d07fd2ab-7a40-4ef8-9b4f-09213be36654"
      },
      "execution_count": null,
      "outputs": [
        {
          "output_type": "stream",
          "name": "stdout",
          "text": [
            "[[[ 1  2]\n",
            "  [ 3  4]\n",
            "  [ 5  6]]\n",
            "\n",
            " [[ 7  8]\n",
            "  [ 9 10]\n",
            "  [11 12]]]\n"
          ]
        }
      ]
    },
    {
      "cell_type": "code",
      "source": [
        "zeros_array = np.zeros([2, 3])\n",
        "print(type(zeros_array))   # <class 'numpy.ndarray'>\n",
        "print(zeros_array.dtype)"
      ],
      "metadata": {
        "colab": {
          "base_uri": "https://localhost:8080/"
        },
        "id": "4VEaMisaKOXF",
        "outputId": "f03a0b69-1015-465c-a1c8-5e1a190e9a5f"
      },
      "execution_count": null,
      "outputs": [
        {
          "output_type": "stream",
          "name": "stdout",
          "text": [
            "<class 'numpy.ndarray'>\n",
            "float64\n"
          ]
        }
      ]
    },
    {
      "cell_type": "code",
      "source": [
        "print(np.ones([3,3]))"
      ],
      "metadata": {
        "colab": {
          "base_uri": "https://localhost:8080/"
        },
        "id": "d7pEkVO4KSaO",
        "outputId": "054de4c5-5956-4d85-c50e-f7cb67b4925d"
      },
      "execution_count": null,
      "outputs": [
        {
          "output_type": "stream",
          "name": "stdout",
          "text": [
            "[[1. 1. 1.]\n",
            " [1. 1. 1.]\n",
            " [1. 1. 1.]]\n"
          ]
        }
      ]
    },
    {
      "cell_type": "code",
      "source": [
        "import numpy as np\n",
        "\n",
        "print(np.empty([3,3]))"
      ],
      "metadata": {
        "colab": {
          "base_uri": "https://localhost:8080/"
        },
        "id": "hTC9yDIBKmfq",
        "outputId": "6e0d26b7-db2b-4a39-a172-78d349f0b612"
      },
      "execution_count": null,
      "outputs": [
        {
          "output_type": "stream",
          "name": "stdout",
          "text": [
            "[[4.9812044e-310 0.0000000e+000 0.0000000e+000]\n",
            " [0.0000000e+000 0.0000000e+000 0.0000000e+000]\n",
            " [0.0000000e+000 0.0000000e+000 0.0000000e+000]]\n"
          ]
        }
      ]
    },
    {
      "cell_type": "code",
      "source": [
        "print(np.random.random((2,2)))\n",
        "print(np.linspace(2,11,5)) # five numbers range 2-10\n",
        "print(np.arange(2,10,2)) # 2 being the step size"
      ],
      "metadata": {
        "colab": {
          "base_uri": "https://localhost:8080/"
        },
        "id": "aOu8OPXjRmXP",
        "outputId": "4d9c561d-71d0-45f3-b454-a522c343c04e"
      },
      "execution_count": null,
      "outputs": [
        {
          "output_type": "stream",
          "name": "stdout",
          "text": [
            "[[0.41578512 0.04181155]\n",
            " [0.01542819 0.85164808]]\n",
            "[ 2.    4.25  6.5   8.75 11.  ]\n",
            "[2 4 6 8]\n"
          ]
        }
      ]
    },
    {
      "cell_type": "code",
      "source": [
        "a = np.array((1,2,3,4,5,6,7,8))\n",
        "print(a[-2])\n",
        "print(a[3:7]) # a slice"
      ],
      "metadata": {
        "colab": {
          "base_uri": "https://localhost:8080/"
        },
        "id": "OilyAi2sRtzp",
        "outputId": "2cc37a74-0bf1-4622-9bc4-04e4df10353f"
      },
      "execution_count": null,
      "outputs": [
        {
          "output_type": "stream",
          "name": "stdout",
          "text": [
            "7\n",
            "[4 5 6 7]\n"
          ]
        }
      ]
    },
    {
      "cell_type": "code",
      "source": [
        "print(a*2)\n",
        "print(a/2)"
      ],
      "metadata": {
        "colab": {
          "base_uri": "https://localhost:8080/"
        },
        "id": "YWAkkMEXSgV1",
        "outputId": "f20d0f46-fd80-4b4a-f865-96e2ed9ca02f"
      },
      "execution_count": null,
      "outputs": [
        {
          "output_type": "stream",
          "name": "stdout",
          "text": [
            "[ 2  4  6  8 10 12 14 16]\n",
            "[0.5 1.  1.5 2.  2.5 3.  3.5 4. ]\n"
          ]
        }
      ]
    },
    {
      "cell_type": "markdown",
      "source": [
        "**Accessing/Changing specific elements, rows, columns, etc**\n"
      ],
      "metadata": {
        "id": "p8B3NKOz4U1_"
      }
    },
    {
      "cell_type": "code",
      "source": [
        "import numpy as np\n",
        "a = np.array([[1,2,3,4,5,6,7],\n",
        " [8,9,10,11,12,13,14]])\n",
        "\n",
        "print(a)"
      ],
      "metadata": {
        "colab": {
          "base_uri": "https://localhost:8080/"
        },
        "id": "gQ4-Ip304UJI",
        "outputId": "be66868b-c5dd-41e0-eda0-d1a078c3bdf5"
      },
      "execution_count": null,
      "outputs": [
        {
          "output_type": "stream",
          "name": "stdout",
          "text": [
            "[[ 1  2  3  4  5  6  7]\n",
            " [ 8  9 10 11 12 13 14]]\n"
          ]
        }
      ]
    },
    {
      "cell_type": "code",
      "source": [
        "# Get a specific element [r, c]\n",
        "a[1, 5]"
      ],
      "metadata": {
        "colab": {
          "base_uri": "https://localhost:8080/"
        },
        "id": "rfe1ASiA4wO4",
        "outputId": "92ff83c2-5e39-4b2a-8484-51ec61edb101"
      },
      "execution_count": null,
      "outputs": [
        {
          "output_type": "execute_result",
          "data": {
            "text/plain": [
              "13"
            ]
          },
          "metadata": {},
          "execution_count": 2
        }
      ]
    },
    {
      "cell_type": "code",
      "source": [
        "# Get a specific row\n",
        "a[0,:]"
      ],
      "metadata": {
        "colab": {
          "base_uri": "https://localhost:8080/"
        },
        "id": "uN0FmA7740L3",
        "outputId": "36dd7dc0-6123-4839-9848-0dd6da03f1c6"
      },
      "execution_count": null,
      "outputs": [
        {
          "output_type": "execute_result",
          "data": {
            "text/plain": [
              "array([1, 2, 3, 4, 5, 6, 7])"
            ]
          },
          "metadata": {},
          "execution_count": 3
        }
      ]
    },
    {
      "cell_type": "code",
      "source": [
        "# something fancy [startindex:endindex:stepsize]\n",
        "\n",
        "a = np.array([[1,2,3,4,5,6,7],\n",
        "              [8,9,10,11,12,13,14]])\n",
        "\n",
        "a[0, 1:-1: 3]"
      ],
      "metadata": {
        "colab": {
          "base_uri": "https://localhost:8080/"
        },
        "id": "6YRsl15djhfX",
        "outputId": "dec735a5-8de1-4faa-b378-c9ad112f8746"
      },
      "execution_count": null,
      "outputs": [
        {
          "output_type": "execute_result",
          "data": {
            "text/plain": [
              "array([2, 5])"
            ]
          },
          "metadata": {},
          "execution_count": 3
        }
      ]
    },
    {
      "cell_type": "code",
      "source": [
        "a[0,5] = 20\n",
        "\n",
        "#: means select all rows, 2 means select column 2 across all rows\n",
        "a[:,2] = [1,2]\n",
        "print(a)\n"
      ],
      "metadata": {
        "colab": {
          "base_uri": "https://localhost:8080/"
        },
        "id": "zTy2CWrnjnDt",
        "outputId": "8b552490-ab92-414f-d731-87be7430a4f5"
      },
      "execution_count": null,
      "outputs": [
        {
          "output_type": "stream",
          "name": "stdout",
          "text": [
            "[[ 1  2  1  4  5 20  7]\n",
            " [ 8  9  2 11 12 13 14]]\n"
          ]
        }
      ]
    },
    {
      "cell_type": "code",
      "source": [
        "a = np.array([[1,2,3,4,5,6,7],\n",
        "              [8,9,10,11,12,13,14],\n",
        "              [15,16,17,18,19,20,21]])\n",
        "a[1 :,2] = [22] # select row 1 and 2 and in column 2 replace values with 22\n",
        "print(a)"
      ],
      "metadata": {
        "colab": {
          "base_uri": "https://localhost:8080/"
        },
        "id": "TTqnEpFitL4_",
        "outputId": "6b1a46f7-25b0-475c-8ddd-3f2e3e3bf826"
      },
      "execution_count": 5,
      "outputs": [
        {
          "output_type": "stream",
          "name": "stdout",
          "text": [
            "[[ 1  2  3  4  5  6  7]\n",
            " [ 8  9 22 11 12 13 14]\n",
            " [15 16 22 18 19 20 21]]\n"
          ]
        }
      ]
    },
    {
      "cell_type": "markdown",
      "source": [
        "**3D example**"
      ],
      "metadata": {
        "id": "cTDfi-LZtRmx"
      }
    },
    {
      "cell_type": "code",
      "source": [
        "b = np.array([[[1,2],[3,4]],  [[5,6],[7,8]]]) #shape (2,2,2)\n",
        "print(b)"
      ],
      "metadata": {
        "colab": {
          "base_uri": "https://localhost:8080/"
        },
        "id": "RABWjn8WtS9G",
        "outputId": "1234c79f-fbb6-40ec-d4a2-c9218c996315"
      },
      "execution_count": 6,
      "outputs": [
        {
          "output_type": "stream",
          "name": "stdout",
          "text": [
            "[[[1 2]\n",
            "  [3 4]]\n",
            "\n",
            " [[5 6]\n",
            "  [7 8]]]\n"
          ]
        }
      ]
    },
    {
      "cell_type": "code",
      "source": [
        "# Get specific element # block, row, element(column)\n",
        "b[0,1,0]"
      ],
      "metadata": {
        "colab": {
          "base_uri": "https://localhost:8080/"
        },
        "id": "Ilb2Ye5Owuco",
        "outputId": "221602af-8457-4058-eab0-aec870000d32"
      },
      "execution_count": 7,
      "outputs": [
        {
          "output_type": "execute_result",
          "data": {
            "text/plain": [
              "3"
            ]
          },
          "metadata": {},
          "execution_count": 7
        }
      ]
    },
    {
      "cell_type": "code",
      "source": [
        "# replace : select all blocks, 1 select second row of each block, : all elements in the second row\n",
        "b[:,0,:] =[[9,9],[8,8]]\n",
        "print(b)"
      ],
      "metadata": {
        "colab": {
          "base_uri": "https://localhost:8080/"
        },
        "id": "Jl4KogS1xaTX",
        "outputId": "5d3cf61a-1826-4082-d417-1ed95e226581"
      },
      "execution_count": 8,
      "outputs": [
        {
          "output_type": "stream",
          "name": "stdout",
          "text": [
            "[[[9 9]\n",
            "  [3 4]]\n",
            "\n",
            " [[8 8]\n",
            "  [7 8]]]\n"
          ]
        }
      ]
    },
    {
      "cell_type": "code",
      "source": [
        "# Any other number (full Return a new array of given shape and type, filled with fill_value.)\n",
        "import numpy as np\n",
        "np.full((2,2), [0,99])"
      ],
      "metadata": {
        "colab": {
          "base_uri": "https://localhost:8080/"
        },
        "id": "nYyD_N_y35eL",
        "outputId": "a58c1f27-111a-47fa-e1c5-4d8b5b6e3c86"
      },
      "execution_count": 9,
      "outputs": [
        {
          "output_type": "execute_result",
          "data": {
            "text/plain": [
              "array([[ 0, 99],\n",
              "       [ 0, 99]])"
            ]
          },
          "metadata": {},
          "execution_count": 9
        }
      ]
    },
    {
      "cell_type": "code",
      "source": [
        "# Random decimal numbers between 0 and 1, try two arguments, first will give you an error and then do it with tuple\n",
        "np.random.random(6)"
      ],
      "metadata": {
        "colab": {
          "base_uri": "https://localhost:8080/"
        },
        "id": "05uN6oSZ3-Wa",
        "outputId": "57787968-6caf-4c5f-bf7e-a737b8dbb94d"
      },
      "execution_count": 10,
      "outputs": [
        {
          "output_type": "execute_result",
          "data": {
            "text/plain": [
              "array([0.16642422, 0.05737825, 0.13750231, 0.86322473, 0.33022168,\n",
              "       0.03253928])"
            ]
          },
          "metadata": {},
          "execution_count": 10
        }
      ]
    },
    {
      "cell_type": "code",
      "source": [
        "#Random Integer values\n",
        "#low: The inclusive lower bound of the random integers.\n",
        "#high: The exclusive upper bound of the random integers (if None, it will be assumed to be equal to low, and the result will be 0).\n",
        "#size: The shape of the output array.\n",
        "\n",
        "np.random.randint(-4,2 , size=(3,2))"
      ],
      "metadata": {
        "colab": {
          "base_uri": "https://localhost:8080/"
        },
        "id": "AbmpsBd35ZhZ",
        "outputId": "8a4e1b4b-d8e7-44df-80d0-10a653c58ea1"
      },
      "execution_count": 11,
      "outputs": [
        {
          "output_type": "execute_result",
          "data": {
            "text/plain": [
              "array([[-1,  0],\n",
              "       [-4, -3],\n",
              "       [-1, -2]])"
            ]
          },
          "metadata": {},
          "execution_count": 11
        }
      ]
    },
    {
      "cell_type": "markdown",
      "source": [
        "**An identity matrix is a square matrix where: The diagonal elements are 1. All off-diagonal elements are 0.**"
      ],
      "metadata": {
        "id": "8GeCFxe5_zcv"
      }
    },
    {
      "cell_type": "code",
      "source": [
        "# The identity matrix\n",
        "np.identity(6)"
      ],
      "metadata": {
        "colab": {
          "base_uri": "https://localhost:8080/"
        },
        "id": "tHeUSmYq_5D6",
        "outputId": "6b9cd60c-36ef-4a39-bf63-6653ba1e13e7"
      },
      "execution_count": 12,
      "outputs": [
        {
          "output_type": "execute_result",
          "data": {
            "text/plain": [
              "array([[1., 0., 0., 0., 0., 0.],\n",
              "       [0., 1., 0., 0., 0., 0.],\n",
              "       [0., 0., 1., 0., 0., 0.],\n",
              "       [0., 0., 0., 1., 0., 0.],\n",
              "       [0., 0., 0., 0., 1., 0.],\n",
              "       [0., 0., 0., 0., 0., 1.]])"
            ]
          },
          "metadata": {},
          "execution_count": 12
        }
      ]
    },
    {
      "cell_type": "markdown",
      "source": [
        "a: The input array that you want to repeat elements from. repeats: The number of times each element (or block of elements) should be repeated. axis: The axis along which to repeat the values. If None, the array is flattened before repeating."
      ],
      "metadata": {
        "id": "kx3Fvz09ACDo"
      }
    },
    {
      "cell_type": "code",
      "source": [
        "# Repeat an array\n",
        "arr = np.array([[1,2,3]])\n",
        "r1 = np.repeat(arr,3, axis=0)\n",
        "print(r1)"
      ],
      "metadata": {
        "colab": {
          "base_uri": "https://localhost:8080/"
        },
        "id": "Qif2a9c6ADUU",
        "outputId": "bed11cad-0bb4-4007-8c0d-50d1a1f1f30c"
      },
      "execution_count": 13,
      "outputs": [
        {
          "output_type": "stream",
          "name": "stdout",
          "text": [
            "[[1 2 3]\n",
            " [1 2 3]\n",
            " [1 2 3]]\n"
          ]
        }
      ]
    },
    {
      "cell_type": "code",
      "source": [
        "arr = np.array([[1, 2], [3, 4], [5, 6]])\n",
        "r4 = np.repeat(arr, 2, axis=0)\n",
        "print(r4)"
      ],
      "metadata": {
        "colab": {
          "base_uri": "https://localhost:8080/"
        },
        "id": "VwbzdK06DJRz",
        "outputId": "cb19429d-713c-45e0-e1e3-e333c6177492"
      },
      "execution_count": 14,
      "outputs": [
        {
          "output_type": "stream",
          "name": "stdout",
          "text": [
            "[[1 2]\n",
            " [1 2]\n",
            " [3 4]\n",
            " [3 4]\n",
            " [5 6]\n",
            " [5 6]]\n"
          ]
        }
      ]
    },
    {
      "cell_type": "markdown",
      "source": [
        "Be careful when copying arrays!!!"
      ],
      "metadata": {
        "id": "ST0lCoHWDPx3"
      }
    },
    {
      "cell_type": "code",
      "source": [
        "#shallow copy\n",
        "a = np.array([1,2,3])\n",
        "b = a\n",
        "b[0] = 100\n",
        "print(a)\n",
        "print(b)"
      ],
      "metadata": {
        "colab": {
          "base_uri": "https://localhost:8080/"
        },
        "id": "UOH6ZtVCDN6B",
        "outputId": "25560e74-e6fc-412a-fa0a-a83f6d5af468"
      },
      "execution_count": 15,
      "outputs": [
        {
          "output_type": "stream",
          "name": "stdout",
          "text": [
            "[100   2   3]\n",
            "[100   2   3]\n"
          ]
        }
      ]
    },
    {
      "cell_type": "code",
      "source": [
        "#deep copy\n",
        "a = np.array([1,2,3])\n",
        "b = a.copy()\n",
        "b[0] = 100\n",
        "print(a)\n",
        "print(b)"
      ],
      "metadata": {
        "colab": {
          "base_uri": "https://localhost:8080/"
        },
        "id": "hg98k5EbDlqU",
        "outputId": "ec67d3ad-4062-4c0b-ccf5-b6856b2f9857"
      },
      "execution_count": 16,
      "outputs": [
        {
          "output_type": "stream",
          "name": "stdout",
          "text": [
            "[1 2 3]\n",
            "[100   2   3]\n"
          ]
        }
      ]
    },
    {
      "cell_type": "code",
      "source": [
        "a = np.array([1,2,3,4])\n",
        "b = np.array([5,6,7,8])\n",
        "\n",
        "print(a*b)"
      ],
      "metadata": {
        "colab": {
          "base_uri": "https://localhost:8080/"
        },
        "id": "gaPtPHoPDp1i",
        "outputId": "b608e6e7-bde2-4767-a94e-04da2fdde4ed"
      },
      "execution_count": 17,
      "outputs": [
        {
          "output_type": "stream",
          "name": "stdout",
          "text": [
            "[ 5 12 21 32]\n"
          ]
        }
      ]
    }
  ]
}