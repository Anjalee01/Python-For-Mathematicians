{
  "nbformat": 4,
  "nbformat_minor": 0,
  "metadata": {
    "colab": {
      "provenance": [],
      "gpuType": "T4",
      "authorship_tag": "ABX9TyPmpeZ8jR6MmMKFZuZfWtgp",
      "include_colab_link": true
    },
    "kernelspec": {
      "name": "python3",
      "display_name": "Python 3"
    },
    "language_info": {
      "name": "python"
    },
    "accelerator": "GPU"
  },
  "cells": [
    {
      "cell_type": "markdown",
      "metadata": {
        "id": "view-in-github",
        "colab_type": "text"
      },
      "source": [
        "<a href=\"https://colab.research.google.com/github/Anjalee01/Python-For-Mathematicians/blob/main/Numpy_Notes.ipynb\" target=\"_parent\"><img src=\"https://colab.research.google.com/assets/colab-badge.svg\" alt=\"Open In Colab\"/></a>"
      ]
    },
    {
      "cell_type": "markdown",
      "source": [
        "# **Numpy**\n",
        "\n",
        "Numpy is multidimentional array library\n",
        "\n",
        "Can store all type of data(1 Dimentional, 2 Dimentionl and 3Dimentional) like **List**\n",
        "\n",
        "# **Difference between Numpy and List**\n",
        "\n",
        "Numpy is fast multidimentional used for array manipulation\n",
        "\n",
        "Low level implimented libraries of Numpy like C and photran they are way faster than python\n",
        "\n",
        "Numpy is Faster than Metlab\n",
        "\n",
        "Numpy Can be used in Machine Learning"
      ],
      "metadata": {
        "id": "y-PK_cG4f6jc"
      }
    },
    {
      "cell_type": "code",
      "execution_count": null,
      "metadata": {
        "id": "5DauSvYSfyAl",
        "colab": {
          "base_uri": "https://localhost:8080/"
        },
        "outputId": "6a7cbc75-f58b-4574-9826-8dc1508d5c18"
      },
      "outputs": [
        {
          "output_type": "stream",
          "name": "stdout",
          "text": [
            "[1, 2, 3, 2, 4, 5]\n"
          ]
        }
      ],
      "source": [
        "list1 = [1,2,3]\n",
        "list2 = [2,4,5]\n",
        "print(list1+list2)"
      ]
    },
    {
      "cell_type": "code",
      "source": [
        "list1 = [1,2,3]\n",
        "list2 = [2,4,5,4]\n",
        "results = []\n",
        "results.append(list1[0] + list2[0])\n",
        "results.append(list1[1] + list2[1])\n",
        "results.append(list1[2] + list2[2])\n",
        "print(results)"
      ],
      "metadata": {
        "colab": {
          "base_uri": "https://localhost:8080/"
        },
        "id": "XYo2ObQprue3",
        "outputId": "97c32294-2426-4017-f42b-066a15138d34"
      },
      "execution_count": null,
      "outputs": [
        {
          "output_type": "stream",
          "name": "stdout",
          "text": [
            "[3, 6, 8]\n"
          ]
        }
      ]
    },
    {
      "cell_type": "code",
      "source": [
        "list1 = [1, 2, 3]\n",
        "list2 = [2, 4, 5]\n",
        "\n",
        "# Initialize an empty list to store the results\n",
        "result = []\n",
        "\n",
        "# Use a simple for loop for element-wise addition\n",
        "for i in range(len(list1)):\n",
        "    result.append(list1[i] + list2[i])\n",
        "\n",
        "print(result)  # Output: [3, 6, 8]\n"
      ],
      "metadata": {
        "colab": {
          "base_uri": "https://localhost:8080/"
        },
        "id": "YjbzqzE9ryIt",
        "outputId": "403b950a-3e76-4bd4-a1e4-526c96e23d3f"
      },
      "execution_count": null,
      "outputs": [
        {
          "output_type": "stream",
          "name": "stdout",
          "text": [
            "[3, 6, 8]\n"
          ]
        }
      ]
    },
    {
      "cell_type": "code",
      "source": [
        "#alias(like a nickname)\n",
        "import numpy as np\n",
        "print(np.__version__)"
      ],
      "metadata": {
        "colab": {
          "base_uri": "https://localhost:8080/"
        },
        "id": "e0hk6HIQswS1",
        "outputId": "5935c471-9198-4085-8f16-cc578cd23f6d"
      },
      "execution_count": null,
      "outputs": [
        {
          "output_type": "stream",
          "name": "stdout",
          "text": [
            "1.26.4\n"
          ]
        }
      ]
    },
    {
      "cell_type": "markdown",
      "source": [
        "**1. Faster Execution**\n",
        "\n",
        "NumPy arrays are much faster than Python lists for numerical computations.\n",
        "\n",
        "**2. Easy Mathematical Operations**\n",
        "\n",
        "You can directly perform element-wise operations without writing loops"
      ],
      "metadata": {
        "id": "9SIt_U_Rujya"
      }
    },
    {
      "cell_type": "code",
      "source": [
        "a = np.array([1,2,3])\n",
        "print(a+a)"
      ],
      "metadata": {
        "colab": {
          "base_uri": "https://localhost:8080/"
        },
        "id": "A_e9EYpptLGh",
        "outputId": "be8b43a7-dc5d-4cc5-fdf5-defbbf0954ba"
      },
      "execution_count": null,
      "outputs": [
        {
          "output_type": "stream",
          "name": "stdout",
          "text": [
            "[2 4 6]\n"
          ]
        }
      ]
    },
    {
      "cell_type": "code",
      "source": [
        "import time\n",
        "list1 = list(range(1000000))\n",
        "list2 = list(range(1000000))\n",
        "\n",
        "start = time.time()\n",
        "result = []\n",
        "for i in range(len(list1)):\n",
        "    result.append(list1[i] + list2[i])\n",
        "end = time.time()\n",
        "print(\"loop addition time:\", end - start)\n",
        "\n",
        "# Adding with NumPy\n",
        "array1 = np.array(list1)\n",
        "array2 = np.array(list2)\n",
        "\n",
        "start = time.time()\n",
        "result = array1 + array2\n",
        "end = time.time()\n",
        "print(\"loop addition time:\", end - start)\n",
        "\n",
        "\n"
      ],
      "metadata": {
        "colab": {
          "base_uri": "https://localhost:8080/"
        },
        "id": "O23NO9shvK5B",
        "outputId": "0c77e45a-1b35-4ed2-9b0e-877875b2e298"
      },
      "execution_count": null,
      "outputs": [
        {
          "output_type": "stream",
          "name": "stdout",
          "text": [
            "loop addition time: 0.27383995056152344\n",
            "loop addition time: 0.005396127700805664\n"
          ]
        }
      ]
    },
    {
      "cell_type": "code",
      "source": [
        "def print_array_details(a):\n",
        "  print(f\"shape: {a.shape}\")\n",
        "\n",
        "a = np.array([1,2,3,4,5,6,7,8])\n",
        "print(a)\n",
        "print_array_details(a)"
      ],
      "metadata": {
        "colab": {
          "base_uri": "https://localhost:8080/"
        },
        "id": "flc8nKho2UbP",
        "outputId": "750d448e-f8da-4e81-b19d-60b10ef06b11"
      },
      "execution_count": null,
      "outputs": [
        {
          "output_type": "stream",
          "name": "stdout",
          "text": [
            "[1 2 3 4 5 6 7 8]\n",
            "shape: (8,)\n"
          ]
        }
      ]
    },
    {
      "cell_type": "code",
      "source": [
        "a = np.array([1,2,3,4,5,6,7,8,9,10,11,12])\n",
        "a2 = a.reshape([3,4])\n",
        "print(a2)\n",
        "print(a2.shape)"
      ],
      "metadata": {
        "colab": {
          "base_uri": "https://localhost:8080/"
        },
        "id": "sCW0P_2b2tTN",
        "outputId": "8c803a19-d357-43a1-99e8-0b73724b612c"
      },
      "execution_count": null,
      "outputs": [
        {
          "output_type": "stream",
          "name": "stdout",
          "text": [
            "[[ 1  2  3  4]\n",
            " [ 5  6  7  8]\n",
            " [ 9 10 11 12]]\n",
            "(3, 4)\n"
          ]
        }
      ]
    },
    {
      "cell_type": "code",
      "source": [
        "#Then a 3d array from our 1d array\n",
        "a = np.array([1,2,3,4,5,6,7,8])\n",
        "a3 = a.reshape([2,2,2])\n",
        "print(a3)"
      ],
      "metadata": {
        "colab": {
          "base_uri": "https://localhost:8080/"
        },
        "id": "H3651epC_91k",
        "outputId": "6d431d74-43c2-4b8f-defb-038ca1ec830e"
      },
      "execution_count": null,
      "outputs": [
        {
          "output_type": "stream",
          "name": "stdout",
          "text": [
            "[[[1 2]\n",
            "  [3 4]]\n",
            "\n",
            " [[5 6]\n",
            "  [7 8]]]\n"
          ]
        }
      ]
    },
    {
      "cell_type": "code",
      "source": [
        "a = np.array([1,2,3,4,5,6,7,8,9, 10,11,12])\n",
        "a4 = a.reshape([2,3,2])\n",
        "print(a4)"
      ],
      "metadata": {
        "colab": {
          "base_uri": "https://localhost:8080/"
        },
        "id": "9dMILGeyKJz4",
        "outputId": "d07fd2ab-7a40-4ef8-9b4f-09213be36654"
      },
      "execution_count": null,
      "outputs": [
        {
          "output_type": "stream",
          "name": "stdout",
          "text": [
            "[[[ 1  2]\n",
            "  [ 3  4]\n",
            "  [ 5  6]]\n",
            "\n",
            " [[ 7  8]\n",
            "  [ 9 10]\n",
            "  [11 12]]]\n"
          ]
        }
      ]
    },
    {
      "cell_type": "code",
      "source": [
        "zeros_array = np.zeros([2, 3])\n",
        "print(type(zeros_array))   # <class 'numpy.ndarray'>\n",
        "print(zeros_array.dtype)"
      ],
      "metadata": {
        "colab": {
          "base_uri": "https://localhost:8080/"
        },
        "id": "4VEaMisaKOXF",
        "outputId": "f03a0b69-1015-465c-a1c8-5e1a190e9a5f"
      },
      "execution_count": null,
      "outputs": [
        {
          "output_type": "stream",
          "name": "stdout",
          "text": [
            "<class 'numpy.ndarray'>\n",
            "float64\n"
          ]
        }
      ]
    },
    {
      "cell_type": "code",
      "source": [
        "print(np.ones([3,3]))"
      ],
      "metadata": {
        "colab": {
          "base_uri": "https://localhost:8080/"
        },
        "id": "d7pEkVO4KSaO",
        "outputId": "054de4c5-5956-4d85-c50e-f7cb67b4925d"
      },
      "execution_count": null,
      "outputs": [
        {
          "output_type": "stream",
          "name": "stdout",
          "text": [
            "[[1. 1. 1.]\n",
            " [1. 1. 1.]\n",
            " [1. 1. 1.]]\n"
          ]
        }
      ]
    },
    {
      "cell_type": "code",
      "source": [
        "import numpy as np\n",
        "\n",
        "print(np.empty([3,3]))"
      ],
      "metadata": {
        "colab": {
          "base_uri": "https://localhost:8080/"
        },
        "id": "hTC9yDIBKmfq",
        "outputId": "6e0d26b7-db2b-4a39-a172-78d349f0b612"
      },
      "execution_count": null,
      "outputs": [
        {
          "output_type": "stream",
          "name": "stdout",
          "text": [
            "[[4.9812044e-310 0.0000000e+000 0.0000000e+000]\n",
            " [0.0000000e+000 0.0000000e+000 0.0000000e+000]\n",
            " [0.0000000e+000 0.0000000e+000 0.0000000e+000]]\n"
          ]
        }
      ]
    },
    {
      "cell_type": "code",
      "source": [
        "print(np.random.random((2,2)))\n",
        "print(np.linspace(2,11,5)) # five numbers range 2-10\n",
        "print(np.arange(2,10,2)) # 2 being the step size"
      ],
      "metadata": {
        "colab": {
          "base_uri": "https://localhost:8080/"
        },
        "id": "aOu8OPXjRmXP",
        "outputId": "4d9c561d-71d0-45f3-b454-a522c343c04e"
      },
      "execution_count": null,
      "outputs": [
        {
          "output_type": "stream",
          "name": "stdout",
          "text": [
            "[[0.41578512 0.04181155]\n",
            " [0.01542819 0.85164808]]\n",
            "[ 2.    4.25  6.5   8.75 11.  ]\n",
            "[2 4 6 8]\n"
          ]
        }
      ]
    },
    {
      "cell_type": "code",
      "source": [
        "a = np.array((1,2,3,4,5,6,7,8))\n",
        "print(a[-2])\n",
        "print(a[3:7]) # a slice"
      ],
      "metadata": {
        "colab": {
          "base_uri": "https://localhost:8080/"
        },
        "id": "OilyAi2sRtzp",
        "outputId": "2cc37a74-0bf1-4622-9bc4-04e4df10353f"
      },
      "execution_count": null,
      "outputs": [
        {
          "output_type": "stream",
          "name": "stdout",
          "text": [
            "7\n",
            "[4 5 6 7]\n"
          ]
        }
      ]
    },
    {
      "cell_type": "code",
      "source": [
        "print(a*2)\n",
        "print(a/2)"
      ],
      "metadata": {
        "colab": {
          "base_uri": "https://localhost:8080/"
        },
        "id": "YWAkkMEXSgV1",
        "outputId": "f20d0f46-fd80-4b4a-f865-96e2ed9ca02f"
      },
      "execution_count": null,
      "outputs": [
        {
          "output_type": "stream",
          "name": "stdout",
          "text": [
            "[ 2  4  6  8 10 12 14 16]\n",
            "[0.5 1.  1.5 2.  2.5 3.  3.5 4. ]\n"
          ]
        }
      ]
    },
    {
      "cell_type": "code",
      "source": [
        "!git config --global user.name \"Your GitHub Username\"\n",
        "!git config --global user.email \"your.email@example.com\"\n"
      ],
      "metadata": {
        "id": "QhlUSNEUBt7i"
      },
      "execution_count": null,
      "outputs": []
    },
    {
      "cell_type": "code",
      "source": [
        "!git clone https://github.com/Anjalee01/Python-For-Mathematicians\n"
      ],
      "metadata": {
        "colab": {
          "base_uri": "https://localhost:8080/"
        },
        "id": "wogFA2rVBzxv",
        "outputId": "4799344b-da3b-44c3-c582-63fb687a752e"
      },
      "execution_count": null,
      "outputs": [
        {
          "output_type": "stream",
          "name": "stdout",
          "text": [
            "Cloning into 'Python-For-Mathematicians'...\n",
            "remote: Enumerating objects: 21, done.\u001b[K\n",
            "remote: Counting objects: 100% (21/21), done.\u001b[K\n",
            "remote: Compressing objects: 100% (15/15), done.\u001b[K\n",
            "remote: Total 21 (delta 7), reused 19 (delta 5), pack-reused 0 (from 0)\u001b[K\n",
            "Receiving objects: 100% (21/21), 5.13 KiB | 1.28 MiB/s, done.\n",
            "Resolving deltas: 100% (7/7), done.\n"
          ]
        }
      ]
    },
    {
      "cell_type": "code",
      "source": [
        "!cp /content/Numpy_Notes.ipynb /content/Python-For-Mathematicians/\n"
      ],
      "metadata": {
        "colab": {
          "base_uri": "https://localhost:8080/"
        },
        "id": "klURuHzYCNsy",
        "outputId": "cf536dc3-02e6-4447-b134-1f7a05a5a302"
      },
      "execution_count": null,
      "outputs": [
        {
          "output_type": "stream",
          "name": "stdout",
          "text": [
            "cp: cannot stat '/Numpy_Notes.ipynb': No such file or directory\n"
          ]
        }
      ]
    },
    {
      "cell_type": "code",
      "source": [
        "!ls\n"
      ],
      "metadata": {
        "colab": {
          "base_uri": "https://localhost:8080/"
        },
        "id": "48KtDzQ0CyXg",
        "outputId": "b061b14e-ef26-4ee8-a84f-baaf4f9ed9d8"
      },
      "execution_count": null,
      "outputs": [
        {
          "output_type": "stream",
          "name": "stdout",
          "text": [
            "Python-For-Mathematicians  sample_data\n"
          ]
        }
      ]
    }
  ]
}